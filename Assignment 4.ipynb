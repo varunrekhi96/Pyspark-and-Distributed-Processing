{
 "cells": [
  {
   "cell_type": "code",
   "execution_count": 1,
   "id": "57cb8139",
   "metadata": {},
   "outputs": [],
   "source": [
    "from pyspark.sql import SparkSession\n",
    "import getpass\n",
    "username = getpass.getuser()\n",
    "spark = SparkSession. \\\n",
    " builder. \\\n",
    " config('spark.ui.port', '0'). \\\n",
    " config(\"spark.sql.warehouse.dir\", f\"/user/{username}/warehouse\"). \\\n",
    " enableHiveSupport(). \\\n",
    " master('yarn'). \\\n",
    " getOrCreate()"
   ]
  },
  {
   "cell_type": "code",
   "execution_count": 2,
   "id": "237c4984",
   "metadata": {},
   "outputs": [
    {
     "data": {
      "text/html": [
       "\n",
       "            <div>\n",
       "                <p><b>SparkSession - hive</b></p>\n",
       "                \n",
       "        <div>\n",
       "            <p><b>SparkContext</b></p>\n",
       "\n",
       "            <p><a href=\"http://g02.itversity.com:36519\">Spark UI</a></p>\n",
       "\n",
       "            <dl>\n",
       "              <dt>Version</dt>\n",
       "                <dd><code>v3.0.1</code></dd>\n",
       "              <dt>Master</dt>\n",
       "                <dd><code>yarn</code></dd>\n",
       "              <dt>AppName</dt>\n",
       "                <dd><code>pyspark-shell</code></dd>\n",
       "            </dl>\n",
       "        </div>\n",
       "        \n",
       "            </div>\n",
       "        "
      ],
      "text/plain": [
       "<pyspark.sql.session.SparkSession at 0x7fcef3d33358>"
      ]
     },
     "execution_count": 2,
     "metadata": {},
     "output_type": "execute_result"
    }
   ],
   "source": [
    "spark"
   ]
  },
  {
   "cell_type": "markdown",
   "id": "d8279fa6",
   "metadata": {},
   "source": [
    "#### 1. we need to find top 10 customers who have spent the most amount\n",
    "(premium customers)"
   ]
  },
  {
   "cell_type": "markdown",
   "id": "b8ecc7cf",
   "metadata": {},
   "source": [
    "###### Loading the data to RDD’s"
   ]
  },
  {
   "cell_type": "code",
   "execution_count": 3,
   "id": "43b3490e",
   "metadata": {},
   "outputs": [],
   "source": [
    "orders_rdd = spark.sparkContext.textFile(\"/public/trendytech/retail_db/orders/*\")"
   ]
  },
  {
   "cell_type": "code",
   "execution_count": 4,
   "id": "ad96c4a6",
   "metadata": {},
   "outputs": [
    {
     "data": {
      "text/plain": [
       "['1,2013-07-25 00:00:00.0,11599,CLOSED',\n",
       " '2,2013-07-25 00:00:00.0,256,PENDING_PAYMENT',\n",
       " '3,2013-07-25 00:00:00.0,12111,COMPLETE',\n",
       " '4,2013-07-25 00:00:00.0,8827,CLOSED',\n",
       " '5,2013-07-25 00:00:00.0,11318,COMPLETE']"
      ]
     },
     "execution_count": 4,
     "metadata": {},
     "output_type": "execute_result"
    }
   ],
   "source": [
    "orders_rdd.take(5)"
   ]
  },
  {
   "cell_type": "code",
   "execution_count": 5,
   "id": "ae5df804",
   "metadata": {},
   "outputs": [],
   "source": [
    "order_items_rdd = spark.sparkContext.textFile(\"/public/trendytech/retail_db/order_items/*\")"
   ]
  },
  {
   "cell_type": "code",
   "execution_count": 6,
   "id": "a11e3b79",
   "metadata": {},
   "outputs": [
    {
     "data": {
      "text/plain": [
       "['1,1,957,1,299.98,299.98',\n",
       " '2,2,1073,1,199.99,199.99',\n",
       " '3,2,502,5,250.0,50.0',\n",
       " '4,2,403,1,129.99,129.99',\n",
       " '5,4,897,2,49.98,24.99']"
      ]
     },
     "execution_count": 6,
     "metadata": {},
     "output_type": "execute_result"
    }
   ],
   "source": [
    "order_items_rdd.take(5)"
   ]
  },
  {
   "cell_type": "markdown",
   "id": "a8025870",
   "metadata": {},
   "source": [
    "###### Taking the order_id and order_item_subtotal from order_items_rdd"
   ]
  },
  {
   "cell_type": "code",
   "execution_count": 7,
   "id": "5da8b7dd",
   "metadata": {},
   "outputs": [],
   "source": [
    "order_items_map = order_items_rdd.map(lambda x: ((int(x.split(',')[1]),float(x.split(',')[4]))))"
   ]
  },
  {
   "cell_type": "code",
   "execution_count": 8,
   "id": "edb52f00",
   "metadata": {},
   "outputs": [
    {
     "data": {
      "text/plain": [
       "[(1, 299.98), (2, 199.99), (2, 250.0), (2, 129.99), (4, 49.98)]"
      ]
     },
     "execution_count": 8,
     "metadata": {},
     "output_type": "execute_result"
    }
   ],
   "source": [
    "order_items_map.take(5)"
   ]
  },
  {
   "cell_type": "markdown",
   "id": "6538f612",
   "metadata": {},
   "source": [
    "###### Taking the order_id and order_customer_id from orders_rdd"
   ]
  },
  {
   "cell_type": "code",
   "execution_count": 9,
   "id": "c6df5056",
   "metadata": {},
   "outputs": [],
   "source": [
    "orders_map = orders_rdd.map(lambda x: (int(x.split(',')[0]),(int(x.split(',')[2]))))"
   ]
  },
  {
   "cell_type": "code",
   "execution_count": 10,
   "id": "d8f8acb9",
   "metadata": {},
   "outputs": [
    {
     "data": {
      "text/plain": [
       "[(1, 11599), (2, 256), (3, 12111), (4, 8827), (5, 11318), (6, 7130)]"
      ]
     },
     "execution_count": 10,
     "metadata": {},
     "output_type": "execute_result"
    }
   ],
   "source": [
    "orders_map.take(6)"
   ]
  },
  {
   "cell_type": "markdown",
   "id": "0b641a3e",
   "metadata": {},
   "source": [
    "###### Joining the 2 rdd’s using the common column – order_id"
   ]
  },
  {
   "cell_type": "code",
   "execution_count": 11,
   "id": "11d2b788",
   "metadata": {},
   "outputs": [],
   "source": [
    "join_rdd = order_items_map.join(orders_map)"
   ]
  },
  {
   "cell_type": "code",
   "execution_count": 12,
   "id": "ba25984f",
   "metadata": {},
   "outputs": [],
   "source": [
    "mapped_rdd = join_rdd.map(lambda x: (x[1][1],x[1][0]))"
   ]
  },
  {
   "cell_type": "code",
   "execution_count": 13,
   "id": "90a8f991",
   "metadata": {},
   "outputs": [
    {
     "data": {
      "text/plain": [
       "[(8774, 49.98),\n",
       " (8774, 299.97),\n",
       " (8774, 249.9),\n",
       " (8774, 49.98),\n",
       " (8774, 149.94),\n",
       " (2533, 399.98)]"
      ]
     },
     "execution_count": 13,
     "metadata": {},
     "output_type": "execute_result"
    }
   ],
   "source": [
    "mapped_rdd.take(6)"
   ]
  },
  {
   "cell_type": "markdown",
   "id": "7af2427d",
   "metadata": {},
   "source": [
    "###### Now we need to sum up the amount for each customer and then sort it in descending order"
   ]
  },
  {
   "cell_type": "code",
   "execution_count": 14,
   "id": "5315843c",
   "metadata": {},
   "outputs": [
    {
     "data": {
      "text/plain": [
       "[(791, 10524.169999999996),\n",
       " (9371, 9299.029999999999),\n",
       " (8766, 9296.14),\n",
       " (1657, 9223.71),\n",
       " (2641, 9130.92),\n",
       " (1288, 9019.11),\n",
       " (3710, 9019.099999999999),\n",
       " (4249, 8918.85),\n",
       " (5654, 8904.95),\n",
       " (5624, 8761.98)]"
      ]
     },
     "execution_count": 14,
     "metadata": {},
     "output_type": "execute_result"
    }
   ],
   "source": [
    "reduced_rdd = mapped_rdd.reduceByKey(lambda x,y : x+y).sortBy(lambda x: x[1], ascending=False)\n",
    "reduced_rdd.take(10)"
   ]
  },
  {
   "cell_type": "markdown",
   "id": "6f383202",
   "metadata": {},
   "source": [
    "##### 2. top 10 product id's with most quantities sold"
   ]
  },
  {
   "cell_type": "markdown",
   "id": "e88829e1",
   "metadata": {},
   "source": [
    "######  Loading data to RDD"
   ]
  },
  {
   "cell_type": "code",
   "execution_count": 15,
   "id": "2bd47989",
   "metadata": {},
   "outputs": [],
   "source": [
    "order_items_rdd = spark.sparkContext.textFile(\"/public/trendytech/retail_db/order_items/*\")"
   ]
  },
  {
   "cell_type": "code",
   "execution_count": 16,
   "id": "b8b81ac3",
   "metadata": {},
   "outputs": [
    {
     "data": {
      "text/plain": [
       "['1,1,957,1,299.98,299.98',\n",
       " '2,2,1073,1,199.99,199.99',\n",
       " '3,2,502,5,250.0,50.0',\n",
       " '4,2,403,1,129.99,129.99',\n",
       " '5,4,897,2,49.98,24.99']"
      ]
     },
     "execution_count": 16,
     "metadata": {},
     "output_type": "execute_result"
    }
   ],
   "source": [
    "order_items_rdd.take(5)"
   ]
  },
  {
   "cell_type": "markdown",
   "id": "0043c2bc",
   "metadata": {},
   "source": [
    "###### We are taking order_item_product_id, order_item_quantity columns and then adding the quantities of each product item and sorting it."
   ]
  },
  {
   "cell_type": "code",
   "execution_count": 17,
   "id": "6cd51f1a",
   "metadata": {},
   "outputs": [],
   "source": [
    "mapped_rdd = order_items_rdd.map(lambda x: ((int(x.split(\",\")[2])),(int(x.split(\",\")[3]))))"
   ]
  },
  {
   "cell_type": "code",
   "execution_count": 18,
   "id": "d8006157",
   "metadata": {},
   "outputs": [
    {
     "data": {
      "text/plain": [
       "[(957, 1), (1073, 1), (502, 5), (403, 1), (897, 2)]"
      ]
     },
     "execution_count": 18,
     "metadata": {},
     "output_type": "execute_result"
    }
   ],
   "source": [
    "mapped_rdd.take(5)"
   ]
  },
  {
   "cell_type": "code",
   "execution_count": 19,
   "id": "7e4713b4",
   "metadata": {},
   "outputs": [],
   "source": [
    "reduced_rdd = mapped_rdd.reduceByKey(lambda x, y: x + y)"
   ]
  },
  {
   "cell_type": "code",
   "execution_count": 20,
   "id": "87ed2718",
   "metadata": {},
   "outputs": [
    {
     "data": {
      "text/plain": [
       "[(502, 62956), (1014, 57803), (926, 930), (134, 801), (276, 919)]"
      ]
     },
     "execution_count": 20,
     "metadata": {},
     "output_type": "execute_result"
    }
   ],
   "source": [
    "reduced_rdd.take(5)"
   ]
  },
  {
   "cell_type": "code",
   "execution_count": 21,
   "id": "a295e528",
   "metadata": {},
   "outputs": [],
   "source": [
    "top_products = reduced_rdd.sortBy(lambda x: x[1], ascending=False)"
   ]
  },
  {
   "cell_type": "code",
   "execution_count": 22,
   "id": "818c430a",
   "metadata": {},
   "outputs": [
    {
     "data": {
      "text/plain": [
       "[(365, 73698), (502, 62956), (1014, 57803), (191, 36680), (627, 31735)]"
      ]
     },
     "execution_count": 22,
     "metadata": {},
     "output_type": "execute_result"
    }
   ],
   "source": [
    "top_products.take(5)"
   ]
  },
  {
   "cell_type": "markdown",
   "id": "718053b9",
   "metadata": {},
   "source": [
    "##### 3. how many customers are from Caguas city"
   ]
  },
  {
   "cell_type": "markdown",
   "id": "e7f2563b",
   "metadata": {},
   "source": [
    "###### Loading data to RDD"
   ]
  },
  {
   "cell_type": "code",
   "execution_count": 23,
   "id": "a4fa7fb2",
   "metadata": {},
   "outputs": [],
   "source": [
    "customers_rdd = spark.sparkContext.textFile(\"/public/trendytech/retail_db/customers/*\")"
   ]
  },
  {
   "cell_type": "code",
   "execution_count": 24,
   "id": "21aab64c",
   "metadata": {},
   "outputs": [
    {
     "data": {
      "text/plain": [
       "['1,Richard,Hernandez,XXXXXXXXX,XXXXXXXXX,6303 Heather Plaza,Brownsville,TX,78521',\n",
       " '2,Mary,Barrett,XXXXXXXXX,XXXXXXXXX,9526 Noble Embers Ridge,Littleton,CO,80126',\n",
       " '3,Ann,Smith,XXXXXXXXX,XXXXXXXXX,3422 Blue Pioneer Bend,Caguas,PR,00725',\n",
       " '4,Mary,Jones,XXXXXXXXX,XXXXXXXXX,8324 Little Common,San Marcos,CA,92069',\n",
       " '5,Robert,Hudson,XXXXXXXXX,XXXXXXXXX,\"10 Crystal River Mall \",Caguas,PR,00725']"
      ]
     },
     "execution_count": 24,
     "metadata": {},
     "output_type": "execute_result"
    }
   ],
   "source": [
    "customers_rdd.take(5)"
   ]
  },
  {
   "cell_type": "markdown",
   "id": "48ef65d0",
   "metadata": {},
   "source": [
    "###### Taking customer_city and filtering based on city names = Caguas"
   ]
  },
  {
   "cell_type": "code",
   "execution_count": 25,
   "id": "bb5b552b",
   "metadata": {},
   "outputs": [],
   "source": [
    "mapped_rdd = customers_rdd.map(lambda x: x.split(\",\")[6])"
   ]
  },
  {
   "cell_type": "code",
   "execution_count": 26,
   "id": "80d53252",
   "metadata": {},
   "outputs": [
    {
     "data": {
      "text/plain": [
       "['Brownsville', 'Littleton', 'Caguas', 'San Marcos', 'Caguas', 'Passaic']"
      ]
     },
     "execution_count": 26,
     "metadata": {},
     "output_type": "execute_result"
    }
   ],
   "source": [
    "mapped_rdd.take(6)"
   ]
  },
  {
   "cell_type": "code",
   "execution_count": 27,
   "id": "1c3db506",
   "metadata": {},
   "outputs": [],
   "source": [
    "filtered_rdd = mapped_rdd.filter(lambda x: x == 'Caguas')"
   ]
  },
  {
   "cell_type": "code",
   "execution_count": 28,
   "id": "aa5f811e",
   "metadata": {},
   "outputs": [
    {
     "data": {
      "text/plain": [
       "['Caguas', 'Caguas', 'Caguas', 'Caguas', 'Caguas', 'Caguas']"
      ]
     },
     "execution_count": 28,
     "metadata": {},
     "output_type": "execute_result"
    }
   ],
   "source": [
    "filtered_rdd.take(6)"
   ]
  },
  {
   "cell_type": "markdown",
   "id": "e76ee0de",
   "metadata": {},
   "source": [
    "###### Calling count() action"
   ]
  },
  {
   "cell_type": "code",
   "execution_count": 29,
   "id": "9a2c1367",
   "metadata": {},
   "outputs": [
    {
     "data": {
      "text/plain": [
       "4584"
      ]
     },
     "execution_count": 29,
     "metadata": {},
     "output_type": "execute_result"
    }
   ],
   "source": [
    "filtered_rdd.count()"
   ]
  },
  {
   "cell_type": "markdown",
   "id": "1b127265",
   "metadata": {},
   "source": [
    "##### 4. Top 3 states with maximum customers"
   ]
  },
  {
   "cell_type": "markdown",
   "id": "12aeda1a",
   "metadata": {},
   "source": [
    "###### Loading data to RDD"
   ]
  },
  {
   "cell_type": "code",
   "execution_count": 30,
   "id": "95207b17",
   "metadata": {},
   "outputs": [],
   "source": [
    "customers_rdd = spark.sparkContext.textFile(\"/public/trendytech/retail_db/customers/*\")"
   ]
  },
  {
   "cell_type": "markdown",
   "id": "ab89cc37",
   "metadata": {},
   "source": [
    "###### Taking customer_states from customers_rdd and adding and sorting to get top 3 states"
   ]
  },
  {
   "cell_type": "code",
   "execution_count": 31,
   "id": "30787e6e",
   "metadata": {},
   "outputs": [],
   "source": [
    "mapped_rdd = customers_rdd.map(lambda x: (x.split(\",\")[7],1))"
   ]
  },
  {
   "cell_type": "code",
   "execution_count": 32,
   "id": "d2153d19",
   "metadata": {},
   "outputs": [
    {
     "data": {
      "text/plain": [
       "[('TX', 1),\n",
       " ('CO', 1),\n",
       " ('PR', 1),\n",
       " ('CA', 1),\n",
       " ('PR', 1),\n",
       " ('NJ', 1),\n",
       " ('PR', 1),\n",
       " ('MA', 1),\n",
       " ('PR', 1),\n",
       " ('VA', 1)]"
      ]
     },
     "execution_count": 32,
     "metadata": {},
     "output_type": "execute_result"
    }
   ],
   "source": [
    "mapped_rdd.take(10)"
   ]
  },
  {
   "cell_type": "code",
   "execution_count": 33,
   "id": "5f2bf04a",
   "metadata": {},
   "outputs": [],
   "source": [
    "reduced_rdd = mapped_rdd.reduceByKey(lambda x, y: x + y)"
   ]
  },
  {
   "cell_type": "code",
   "execution_count": 34,
   "id": "2d08eecd",
   "metadata": {},
   "outputs": [
    {
     "data": {
      "text/plain": [
       "[('TX', 635),\n",
       " ('CO', 122),\n",
       " ('PR', 4771),\n",
       " ('CA', 2012),\n",
       " ('VA', 136),\n",
       " ('NM', 73),\n",
       " ('LA', 63),\n",
       " ('NY', 775),\n",
       " ('OH', 276),\n",
       " ('NC', 150)]"
      ]
     },
     "execution_count": 34,
     "metadata": {},
     "output_type": "execute_result"
    }
   ],
   "source": [
    "reduced_rdd.take(10)"
   ]
  },
  {
   "cell_type": "code",
   "execution_count": 35,
   "id": "43077be5",
   "metadata": {},
   "outputs": [],
   "source": [
    "sorted_rdd = reduced_rdd.sortBy(lambda x: x[1], ascending=False)"
   ]
  },
  {
   "cell_type": "code",
   "execution_count": 36,
   "id": "88e53008",
   "metadata": {},
   "outputs": [
    {
     "data": {
      "text/plain": [
       "[('PR', 4771), ('CA', 2012), ('NY', 775), ('TX', 635), ('IL', 523)]"
      ]
     },
     "execution_count": 36,
     "metadata": {},
     "output_type": "execute_result"
    }
   ],
   "source": [
    "sorted_rdd.take(5)"
   ]
  },
  {
   "cell_type": "markdown",
   "id": "334a24b0",
   "metadata": {},
   "source": [
    "##### 5. how many customers have spent more than $1000 in total"
   ]
  },
  {
   "cell_type": "markdown",
   "id": "e92e82c9",
   "metadata": {},
   "source": [
    "###### Loading the data to RDD’s"
   ]
  },
  {
   "cell_type": "code",
   "execution_count": 37,
   "id": "a2b49487",
   "metadata": {},
   "outputs": [],
   "source": [
    "orders_rdd = spark.sparkContext.textFile(\"/public/trendytech/retail_db/orders/*\")"
   ]
  },
  {
   "cell_type": "code",
   "execution_count": 38,
   "id": "26d2f403",
   "metadata": {},
   "outputs": [],
   "source": [
    "order_items_rdd = spark.sparkContext.textFile(\"/public/trendytech/retail_db/order_items/*\")"
   ]
  },
  {
   "cell_type": "markdown",
   "id": "424521ec",
   "metadata": {},
   "source": [
    "###### Taking the order_id and order_item_subtotal from order_items_rdd"
   ]
  },
  {
   "cell_type": "code",
   "execution_count": 39,
   "id": "032a8c5e",
   "metadata": {},
   "outputs": [],
   "source": [
    "order_items_map = order_items_rdd.map(lambda x: ((int(x.split(',')[1]),float(x.split(',')[4]))))"
   ]
  },
  {
   "cell_type": "code",
   "execution_count": 40,
   "id": "c97a324a",
   "metadata": {},
   "outputs": [
    {
     "data": {
      "text/plain": [
       "[(1, 299.98), (2, 199.99), (2, 250.0), (2, 129.99)]"
      ]
     },
     "execution_count": 40,
     "metadata": {},
     "output_type": "execute_result"
    }
   ],
   "source": [
    "order_items_map.take(4)"
   ]
  },
  {
   "cell_type": "markdown",
   "id": "0724b699",
   "metadata": {},
   "source": [
    "###### Taking the order_id and order_customer_id from orders_rdd"
   ]
  },
  {
   "cell_type": "code",
   "execution_count": 41,
   "id": "fd5051bc",
   "metadata": {},
   "outputs": [],
   "source": [
    "orders_map = orders_rdd.map(lambda x: (int(x.split(',')[0]),(int(x.split(',')[2]))))"
   ]
  },
  {
   "cell_type": "code",
   "execution_count": 42,
   "id": "24412ebb",
   "metadata": {},
   "outputs": [
    {
     "data": {
      "text/plain": [
       "[(1, 11599), (2, 256), (3, 12111), (4, 8827), (5, 11318), (6, 7130), (7, 4530)]"
      ]
     },
     "execution_count": 42,
     "metadata": {},
     "output_type": "execute_result"
    }
   ],
   "source": [
    "orders_map.take(7)"
   ]
  },
  {
   "cell_type": "markdown",
   "id": "9d907d65",
   "metadata": {},
   "source": [
    "###### Joining the 2 rdd’s using the common column – order_id"
   ]
  },
  {
   "cell_type": "code",
   "execution_count": 43,
   "id": "3bfba05e",
   "metadata": {},
   "outputs": [],
   "source": [
    "join_rdd = order_items_map.join(orders_map)"
   ]
  },
  {
   "cell_type": "code",
   "execution_count": 45,
   "id": "63f3b6b9",
   "metadata": {},
   "outputs": [
    {
     "data": {
      "text/plain": [
       "[(4, (49.98, 8827)), (4, (299.95, 8827)), (4, (150.0, 8827))]"
      ]
     },
     "execution_count": 45,
     "metadata": {},
     "output_type": "execute_result"
    }
   ],
   "source": [
    "join_rdd.take(3)"
   ]
  },
  {
   "cell_type": "markdown",
   "id": "1eed892a",
   "metadata": {},
   "source": [
    "######  taking order_customer_id and order_item_subtotal."
   ]
  },
  {
   "cell_type": "code",
   "execution_count": 46,
   "id": "f9d2e60e",
   "metadata": {},
   "outputs": [],
   "source": [
    "mapped_rdd = join_rdd.map(lambda x: (x[1][1],x[1][0]))"
   ]
  },
  {
   "cell_type": "code",
   "execution_count": 47,
   "id": "0209192b",
   "metadata": {},
   "outputs": [
    {
     "data": {
      "text/plain": [
       "[(8827, 49.98), (8827, 299.95), (8827, 150.0)]"
      ]
     },
     "execution_count": 47,
     "metadata": {},
     "output_type": "execute_result"
    }
   ],
   "source": [
    "mapped_rdd.take(3)"
   ]
  },
  {
   "cell_type": "markdown",
   "id": "cb556a13",
   "metadata": {},
   "source": [
    "######  sum up the amount for each customer"
   ]
  },
  {
   "cell_type": "code",
   "execution_count": 48,
   "id": "6c608fcb",
   "metadata": {},
   "outputs": [],
   "source": [
    "reduced_rdd = mapped_rdd.reduceByKey(lambda x,y : x+y)"
   ]
  },
  {
   "cell_type": "markdown",
   "id": "5dae2185",
   "metadata": {},
   "source": [
    "######  filter the records having order_item_subtotal >1000 and counting it.\n",
    " Here we are caching the results for optimization"
   ]
  },
  {
   "cell_type": "code",
   "execution_count": 49,
   "id": "008afe0f",
   "metadata": {},
   "outputs": [],
   "source": [
    "final_rdd = reduced_rdd.filter(lambda x: x[1] > 1000).cache()"
   ]
  },
  {
   "cell_type": "code",
   "execution_count": 50,
   "id": "9190eff3",
   "metadata": {},
   "outputs": [
    {
     "data": {
      "text/plain": [
       "11148"
      ]
     },
     "execution_count": 50,
     "metadata": {},
     "output_type": "execute_result"
    }
   ],
   "source": [
    "final_rdd.count()"
   ]
  },
  {
   "cell_type": "markdown",
   "id": "f3a47a17",
   "metadata": {},
   "source": [
    "##### 6. which state has most number of orders in CLOSED status"
   ]
  },
  {
   "cell_type": "markdown",
   "id": "02ffe0de",
   "metadata": {},
   "source": [
    "###### Load data to RDD"
   ]
  },
  {
   "cell_type": "code",
   "execution_count": 51,
   "id": "8b8dcb4b",
   "metadata": {},
   "outputs": [],
   "source": [
    "orders_rdd = spark.sparkContext.textFile(\"/public/trendytech/retail_db/orders/*\")"
   ]
  },
  {
   "cell_type": "code",
   "execution_count": 52,
   "id": "4aa73a3c",
   "metadata": {},
   "outputs": [],
   "source": [
    "customers_rdd = spark.sparkContext.textFile(\"/public/trendytech/retail_db/customers/*\")"
   ]
  },
  {
   "cell_type": "markdown",
   "id": "747e498c",
   "metadata": {},
   "source": [
    "###### Taking order_customer_id and order_status columns and extracting only CLOSED orders from orders_rdd"
   ]
  },
  {
   "cell_type": "code",
   "execution_count": 53,
   "id": "53fabc95",
   "metadata": {},
   "outputs": [],
   "source": [
    "orders_map = orders_rdd.map(lambda x: ((int(x.split(',')[2])),(x.split(',')[3]))).filter(lambda x: x[1] ==\n",
    "'CLOSED')"
   ]
  },
  {
   "cell_type": "markdown",
   "id": "4822cce8",
   "metadata": {},
   "source": [
    "###### Taking customer_id and customer_state columns from customer_rdd"
   ]
  },
  {
   "cell_type": "code",
   "execution_count": 54,
   "id": "88546f50",
   "metadata": {},
   "outputs": [],
   "source": [
    "customers_map = customers_rdd.map(lambda x: (int(x.split(',')[0]),x.split(',')[7]))"
   ]
  },
  {
   "cell_type": "code",
   "execution_count": 55,
   "id": "2f6e42aa",
   "metadata": {},
   "outputs": [
    {
     "data": {
      "text/plain": [
       "[(1, 'TX'), (2, 'CO'), (3, 'PR'), (4, 'CA'), (5, 'PR')]"
      ]
     },
     "execution_count": 55,
     "metadata": {},
     "output_type": "execute_result"
    }
   ],
   "source": [
    "customers_map.take(5)"
   ]
  },
  {
   "cell_type": "markdown",
   "id": "86386e4c",
   "metadata": {},
   "source": [
    "###### Joining 2 Rdd’s by common column – customer_id"
   ]
  },
  {
   "cell_type": "code",
   "execution_count": 56,
   "id": "d915c28e",
   "metadata": {},
   "outputs": [],
   "source": [
    "join_data = orders_map.join(customers_map)"
   ]
  },
  {
   "cell_type": "code",
   "execution_count": 57,
   "id": "9020144a",
   "metadata": {},
   "outputs": [
    {
     "data": {
      "text/plain": [
       "[(1492, ('CLOSED', 'CA')),\n",
       " (1492, ('CLOSED', 'CA')),\n",
       " (6000, ('CLOSED', 'PR')),\n",
       " (1352, ('CLOSED', 'MA')),\n",
       " (1352, ('CLOSED', 'MA'))]"
      ]
     },
     "execution_count": 57,
     "metadata": {},
     "output_type": "execute_result"
    }
   ],
   "source": [
    "join_data.take(5)"
   ]
  },
  {
   "cell_type": "code",
   "execution_count": 58,
   "id": "415fdf24",
   "metadata": {},
   "outputs": [],
   "source": [
    "mapped_rdd = join_data.map(lambda x: (x[1][1],1))"
   ]
  },
  {
   "cell_type": "code",
   "execution_count": 61,
   "id": "51d16166",
   "metadata": {},
   "outputs": [
    {
     "data": {
      "text/plain": [
       "[('MA', 1), ('MA', 1), ('NC', 1), ('NC', 1)]"
      ]
     },
     "execution_count": 61,
     "metadata": {},
     "output_type": "execute_result"
    }
   ],
   "source": [
    "mapped_rdd.take(4)"
   ]
  },
  {
   "cell_type": "code",
   "execution_count": 62,
   "id": "ae986143",
   "metadata": {},
   "outputs": [],
   "source": [
    "final_rdd = mapped_rdd.reduceByKey(lambda x,y:x+y).sortBy(lambda x: x[1], ascending=False)"
   ]
  },
  {
   "cell_type": "code",
   "execution_count": 63,
   "id": "f5aa8453",
   "metadata": {},
   "outputs": [
    {
     "data": {
      "text/plain": [
       "[('PR', 2891)]"
      ]
     },
     "execution_count": 63,
     "metadata": {},
     "output_type": "execute_result"
    }
   ],
   "source": [
    "final_rdd.take(1)"
   ]
  },
  {
   "cell_type": "markdown",
   "id": "30a17e02",
   "metadata": {},
   "source": [
    "##### 7. how many customers are active (active customers are the one's who placed atleast one order)"
   ]
  },
  {
   "cell_type": "markdown",
   "id": "f67b679a",
   "metadata": {},
   "source": [
    "###### Load data to RDD"
   ]
  },
  {
   "cell_type": "code",
   "execution_count": 65,
   "id": "39db732d",
   "metadata": {},
   "outputs": [],
   "source": [
    "orders_rdd= spark.sparkContext.textFile(\"/public/trendytech/retail_db/orders/*\")"
   ]
  },
  {
   "cell_type": "code",
   "execution_count": 66,
   "id": "d594dc9c",
   "metadata": {},
   "outputs": [],
   "source": [
    "mapped_rdd = orders_rdd.map(lambda x: (int(x.split(\",\")[2]),1))"
   ]
  },
  {
   "cell_type": "code",
   "execution_count": 67,
   "id": "8bf9186f",
   "metadata": {},
   "outputs": [
    {
     "data": {
      "text/plain": [
       "[(11599, 1), (256, 1), (12111, 1), (8827, 1), (11318, 1)]"
      ]
     },
     "execution_count": 67,
     "metadata": {},
     "output_type": "execute_result"
    }
   ],
   "source": [
    "mapped_rdd.take(5)"
   ]
  },
  {
   "cell_type": "markdown",
   "id": "5cb00e8b",
   "metadata": {},
   "source": [
    "######  It then reduces the RDD by key, summing up the values"
   ]
  },
  {
   "cell_type": "code",
   "execution_count": 68,
   "id": "f12ca94c",
   "metadata": {},
   "outputs": [],
   "source": [
    "reduced_rdd = mapped_rdd.reduceByKey(lambda x,y: x + y)"
   ]
  },
  {
   "cell_type": "markdown",
   "id": "a8b8a80f",
   "metadata": {},
   "source": [
    "###### Finally, it filters the RDD to include only customers who have made at least one order"
   ]
  },
  {
   "cell_type": "code",
   "execution_count": 69,
   "id": "f90d8fb7",
   "metadata": {},
   "outputs": [],
   "source": [
    "filtered_rdd = reduced_rdd.filter(lambda x: x[1] >= 1)"
   ]
  },
  {
   "cell_type": "code",
   "execution_count": 70,
   "id": "6f9bdda7",
   "metadata": {},
   "outputs": [
    {
     "data": {
      "text/plain": [
       "12405"
      ]
     },
     "execution_count": 70,
     "metadata": {},
     "output_type": "execute_result"
    }
   ],
   "source": [
    "filtered_rdd.count()"
   ]
  },
  {
   "cell_type": "markdown",
   "id": "a26934ee",
   "metadata": {},
   "source": [
    "##### 8. What is the revenue generated by each state in sorted order"
   ]
  },
  {
   "cell_type": "markdown",
   "id": "dc257156",
   "metadata": {},
   "source": [
    "###### Load data to RDD"
   ]
  },
  {
   "cell_type": "code",
   "execution_count": 4,
   "id": "211d89db",
   "metadata": {},
   "outputs": [],
   "source": [
    "orders_rdd = spark.sparkContext.textFile(\"/public/trendytech/retail_db/orders/*\")"
   ]
  },
  {
   "cell_type": "code",
   "execution_count": 6,
   "id": "3bcbe55b",
   "metadata": {},
   "outputs": [],
   "source": [
    "customers_rdd = spark.sparkContext.textFile(\"/public/trendytech/retail_db/customers/*\")"
   ]
  },
  {
   "cell_type": "code",
   "execution_count": 7,
   "id": "21522977",
   "metadata": {},
   "outputs": [],
   "source": [
    "order_items_rdd = spark.sparkContext.textFile(\"/public/trendytech/retail_db/order_items/*\")"
   ]
  },
  {
   "cell_type": "markdown",
   "id": "c75222ac",
   "metadata": {},
   "source": [
    "###### Taking order_customer_id and order_id from orders_rdd"
   ]
  },
  {
   "cell_type": "code",
   "execution_count": 8,
   "id": "e7e4764a",
   "metadata": {},
   "outputs": [],
   "source": [
    "orders_map = orders_rdd.map(lambda x: ((int(x.split(',')[2])),int(x.split(',')[0])))"
   ]
  },
  {
   "cell_type": "markdown",
   "id": "d3f87185",
   "metadata": {},
   "source": [
    "###### Taking customer_id and customer_state from customers_rdd"
   ]
  },
  {
   "cell_type": "code",
   "execution_count": 9,
   "id": "681d77d9",
   "metadata": {},
   "outputs": [],
   "source": [
    "customers_map = customers_rdd.map(lambda x: ((int(x.split(',')[0])),x.split(',')[7]))"
   ]
  },
  {
   "cell_type": "markdown",
   "id": "a9d10704",
   "metadata": {},
   "source": [
    "###### Join the 2 rdds using the common column – customer_id"
   ]
  },
  {
   "cell_type": "code",
   "execution_count": 10,
   "id": "a82a1c4a",
   "metadata": {},
   "outputs": [],
   "source": [
    "join_rdd = orders_map.join(customers_map)"
   ]
  },
  {
   "cell_type": "code",
   "execution_count": 11,
   "id": "907d6885",
   "metadata": {},
   "outputs": [],
   "source": [
    "mapped_rdd = join_rdd.map(lambda x : (x[1][0],x[1][1]))"
   ]
  },
  {
   "cell_type": "markdown",
   "id": "63e21a93",
   "metadata": {},
   "source": [
    "###### Taking order_id and order_item_subtotal from order_items_rdd"
   ]
  },
  {
   "cell_type": "code",
   "execution_count": 12,
   "id": "04385e32",
   "metadata": {},
   "outputs": [],
   "source": [
    "order_items_map = order_items_rdd.map(lambda x: (int(x.split(',')[1]),float(x.split(',')[4])))"
   ]
  },
  {
   "cell_type": "markdown",
   "id": "b268ae46",
   "metadata": {},
   "source": [
    "###### Now join the 2 rdds with the common column – order_id"
   ]
  },
  {
   "cell_type": "code",
   "execution_count": 13,
   "id": "d6ad5783",
   "metadata": {},
   "outputs": [],
   "source": [
    "join_new_rdd = mapped_rdd.join(order_items_map)"
   ]
  },
  {
   "cell_type": "code",
   "execution_count": 14,
   "id": "e84442bc",
   "metadata": {},
   "outputs": [],
   "source": [
    "reduced_rdd = join_new_rdd.map(lambda x : (x[1][0],x[1][1])).reduceByKey(lambda x,y:x+y)"
   ]
  },
  {
   "cell_type": "code",
   "execution_count": 15,
   "id": "a4cbfd4d",
   "metadata": {},
   "outputs": [],
   "source": [
    "final_rdd = reduced_rdd.sortBy(lambda x: x[1], ascending=False)"
   ]
  },
  {
   "cell_type": "code",
   "execution_count": 16,
   "id": "b6e50571",
   "metadata": {},
   "outputs": [
    {
     "data": {
      "text/plain": [
       "[('PR', 13208867.68999928),\n",
       " ('CA', 5542722.999999759),\n",
       " ('NY', 2152706.739999984),\n",
       " ('TX', 1731407.4899999977),\n",
       " ('IL', 1457225.8300000038),\n",
       " ('FL', 1048609.7700000028),\n",
       " ('OH', 773804.1100000018),\n",
       " ('MI', 730078.9700000018),\n",
       " ('PA', 724375.9300000018),\n",
       " ('NJ', 606550.9900000009),\n",
       " ('AZ', 566459.290000001),\n",
       " ('GA', 467765.18000000046),\n",
       " ('MD', 456100.42000000045),\n",
       " ('NC', 378877.64),\n",
       " ('CO', 358310.60000000027),\n",
       " ('VA', 344824.3500000002),\n",
       " ('OR', 315239.5100000001),\n",
       " ('MA', 306025.73000000016),\n",
       " ('TN', 297614.4100000002),\n",
       " ('NV', 276364.97000000015),\n",
       " ('MO', 260417.2800000002),\n",
       " ('HI', 238208.11000000013),\n",
       " ('CT', 211264.2400000001),\n",
       " ('UT', 184356.8300000001),\n",
       " ('LA', 182954.74000000005),\n",
       " ('NM', 181366.6500000001),\n",
       " ('WA', 172982.4500000001),\n",
       " ('WI', 164058.32000000004),\n",
       " ('MN', 133183.97),\n",
       " ('SC', 129411.78999999995),\n",
       " ('IN', 110015.13999999996),\n",
       " ('DC', 108841.47999999995),\n",
       " ('KY', 94894.74999999996),\n",
       " ('KS', 85865.06999999996),\n",
       " ('DE', 48873.249999999985),\n",
       " ('RI', 47439.349999999984),\n",
       " ('OK', 43493.319999999985),\n",
       " ('WV', 43452.669999999984),\n",
       " ('ND', 41221.96999999999),\n",
       " ('ID', 31791.19999999999),\n",
       " ('AR', 29241.609999999993),\n",
       " ('MT', 16189.98),\n",
       " ('IA', 12761.740000000002),\n",
       " ('AL', 6401.400000000001)]"
      ]
     },
     "execution_count": 16,
     "metadata": {},
     "output_type": "execute_result"
    }
   ],
   "source": [
    "final_rdd.collect()"
   ]
  },
  {
   "cell_type": "markdown",
   "id": "17438d18",
   "metadata": {},
   "source": [
    "##### 1.Find the top 10 states with the highest no. of positive cases."
   ]
  },
  {
   "cell_type": "code",
   "execution_count": 17,
   "id": "7636ae2b",
   "metadata": {},
   "outputs": [],
   "source": [
    "rdd = spark.sparkContext.textFile(\"/public/trendytech/covid19/cases/covid_dataset_cases.csv\")"
   ]
  },
  {
   "cell_type": "markdown",
   "id": "9bd6d7e2",
   "metadata": {},
   "source": [
    "###### Take state and positive columns from rdd"
   ]
  },
  {
   "cell_type": "code",
   "execution_count": 18,
   "id": "2d01eaa3",
   "metadata": {},
   "outputs": [],
   "source": [
    "filtered_rdd = rdd.map(lambda x : (x.split(\",\")[1],int(x.split(\",\")[2])))"
   ]
  },
  {
   "cell_type": "code",
   "execution_count": 19,
   "id": "af09d7ec",
   "metadata": {},
   "outputs": [],
   "source": [
    "positive_cases = filtered_rdd.reduceByKey(lambda x,y : x + y).sortBy(lambda x: x[1], ascending=False)"
   ]
  },
  {
   "cell_type": "code",
   "execution_count": 21,
   "id": "7134f489",
   "metadata": {},
   "outputs": [
    {
     "data": {
      "text/plain": [
       "[('WA', 1701),\n",
       " ('GA', 1017),\n",
       " ('MH', 730),\n",
       " ('MI', 61),\n",
       " ('CA', 53),\n",
       " ('GJ', 35),\n",
       " ('BR', 23),\n",
       " ('JH', 13),\n",
       " ('CG', 8),\n",
       " ('RI', 6)]"
      ]
     },
     "execution_count": 21,
     "metadata": {},
     "output_type": "execute_result"
    }
   ],
   "source": [
    "positive_cases.take(10)"
   ]
  },
  {
   "cell_type": "markdown",
   "id": "296fc6bb",
   "metadata": {},
   "source": [
    "##### 2.Find the total count of people in ICU currently"
   ]
  },
  {
   "cell_type": "code",
   "execution_count": 24,
   "id": "1218d6ae",
   "metadata": {},
   "outputs": [],
   "source": [
    "rdd_2 = spark.sparkContext.textFile(\"/public/trendytech/covid19/cases/covid_dataset_cases.csv\")"
   ]
  },
  {
   "cell_type": "code",
   "execution_count": 25,
   "id": "03579933",
   "metadata": {},
   "outputs": [],
   "source": [
    "icu_count = rdd_2.map(lambda x: int(x.split(\",\")[7])).sum()"
   ]
  },
  {
   "cell_type": "code",
   "execution_count": 27,
   "id": "0b737f37",
   "metadata": {},
   "outputs": [
    {
     "name": "stdout",
     "output_type": "stream",
     "text": [
      "PythonRDD[54] at RDD at PythonRDD.scala:53\n"
     ]
    }
   ],
   "source": [
    "print(icu_count)"
   ]
  },
  {
   "cell_type": "markdown",
   "id": "625b2878",
   "metadata": {},
   "source": [
    "##### 3.Find the top 15 States having maximum no. of recovery."
   ]
  },
  {
   "cell_type": "code",
   "execution_count": 28,
   "id": "9dd2b359",
   "metadata": {},
   "outputs": [],
   "source": [
    "rdd_3 = spark.sparkContext.textFile(\"/public/trendytech/covid19/cases/covid_dataset_cases.csv\")"
   ]
  },
  {
   "cell_type": "code",
   "execution_count": 29,
   "id": "810af2e5",
   "metadata": {},
   "outputs": [],
   "source": [
    "recovered_rdd = rdd_3.map(lambda x: (x.split(\",\")[1],int(x.split(\",\")[11]))).reduceByKey(lambda x,y:\n",
    "x+y)"
   ]
  },
  {
   "cell_type": "code",
   "execution_count": 30,
   "id": "5a799971",
   "metadata": {},
   "outputs": [
    {
     "data": {
      "text/plain": [
       "[('MH', 165),\n",
       " ('RI', 72),\n",
       " ('CA', 23),\n",
       " ('AP', 84),\n",
       " ('HP', 19),\n",
       " ('AS', 30),\n",
       " ('CG', 17)]"
      ]
     },
     "execution_count": 30,
     "metadata": {},
     "output_type": "execute_result"
    }
   ],
   "source": [
    "recovered_rdd.take(7)"
   ]
  },
  {
   "cell_type": "code",
   "execution_count": 31,
   "id": "f02cb8ea",
   "metadata": {},
   "outputs": [],
   "source": [
    "sorted_rdd = recovered_rdd.sortBy(lambda x: x[1], ascending=False)"
   ]
  },
  {
   "cell_type": "code",
   "execution_count": 32,
   "id": "df786172",
   "metadata": {},
   "outputs": [
    {
     "data": {
      "text/plain": [
       "[('WA', 451),\n",
       " ('MH', 165),\n",
       " ('MI', 101),\n",
       " ('GA', 87),\n",
       " ('AP', 84),\n",
       " ('RI', 72),\n",
       " ('BR', 68),\n",
       " ('JH', 50),\n",
       " ('KA', 43),\n",
       " ('AZ', 38),\n",
       " ('AS', 30),\n",
       " ('GJ', 27),\n",
       " ('CA', 23),\n",
       " ('HR', 20),\n",
       " ('HP', 19),\n",
       " ('CG', 17)]"
      ]
     },
     "execution_count": 32,
     "metadata": {},
     "output_type": "execute_result"
    }
   ],
   "source": [
    "sorted_rdd.take(17)"
   ]
  },
  {
   "cell_type": "markdown",
   "id": "3cea85bf",
   "metadata": {},
   "source": [
    "##### 4.Find the top 3 States having least no. of deaths."
   ]
  },
  {
   "cell_type": "code",
   "execution_count": 33,
   "id": "3c4a8476",
   "metadata": {},
   "outputs": [],
   "source": [
    "rdd_4 = spark.sparkContext.textFile(\"/public/trendytech/covid19/cases/covid_dataset_cases.csv\")"
   ]
  },
  {
   "cell_type": "code",
   "execution_count": 34,
   "id": "649891a5",
   "metadata": {},
   "outputs": [],
   "source": [
    "death_rdd = rdd_4.map(lambda x: (x.split(\",\")[1],int(x.split(\",\")[23]))).reduceByKey(lambda x,y: x+y)"
   ]
  },
  {
   "cell_type": "code",
   "execution_count": 35,
   "id": "42924e99",
   "metadata": {},
   "outputs": [],
   "source": [
    "least_rdd = death_rdd.sortBy(lambda x: x[1])"
   ]
  },
  {
   "cell_type": "code",
   "execution_count": 36,
   "id": "56306176",
   "metadata": {},
   "outputs": [
    {
     "data": {
      "text/plain": [
       "[('AS', 9), ('JH', 10), ('CG', 31)]"
      ]
     },
     "execution_count": 36,
     "metadata": {},
     "output_type": "execute_result"
    }
   ],
   "source": [
    "least_rdd.take(3)"
   ]
  },
  {
   "cell_type": "markdown",
   "id": "a20236c5",
   "metadata": {},
   "source": [
    "##### 5.Find the total number of people hospitalized currently."
   ]
  },
  {
   "cell_type": "code",
   "execution_count": 37,
   "id": "60b61f23",
   "metadata": {},
   "outputs": [],
   "source": [
    "rdd_5 = spark.sparkContext.textFile(\"/public/trendytech/covid19/cases/covid_dataset_cases.csv\")"
   ]
  },
  {
   "cell_type": "code",
   "execution_count": 38,
   "id": "00b6f728",
   "metadata": {},
   "outputs": [],
   "source": [
    "hosp_rdd = rdd_5.map(lambda x: int(x.split(\",\")[5])).sum()"
   ]
  },
  {
   "cell_type": "code",
   "execution_count": 39,
   "id": "390ae87d",
   "metadata": {},
   "outputs": [
    {
     "name": "stdout",
     "output_type": "stream",
     "text": [
      "1319\n"
     ]
    }
   ],
   "source": [
    "print(hosp_rdd)"
   ]
  },
  {
   "cell_type": "markdown",
   "id": "2c25ff00",
   "metadata": {},
   "source": [
    "##### 6.List the twitter handle and fips code for the top 15 states with the highest number of total cases."
   ]
  },
  {
   "cell_type": "code",
   "execution_count": 41,
   "id": "fda5ee8b",
   "metadata": {},
   "outputs": [],
   "source": [
    "cases_rdd = spark.sparkContext.textFile(\"/public/trendytech/covid19/cases/covid_dataset_cases.csv\")"
   ]
  },
  {
   "cell_type": "code",
   "execution_count": 42,
   "id": "a5a8f767",
   "metadata": {},
   "outputs": [],
   "source": [
    "states_rdd = spark.sparkContext.textFile(\"/public/trendytech/covid19/states/covid_dataset_states.csv\")"
   ]
  },
  {
   "cell_type": "markdown",
   "id": "364d9f29",
   "metadata": {},
   "source": [
    "###### Taking state, twitter and fips columns from states_rdd"
   ]
  },
  {
   "cell_type": "code",
   "execution_count": 43,
   "id": "bbe21ee2",
   "metadata": {},
   "outputs": [],
   "source": [
    "states_mapped =states_rdd.map(lambda x: (x.split(\",\")[0],(x.split(\",\")[5],int(x.split(\",\")[8]))))"
   ]
  },
  {
   "cell_type": "markdown",
   "id": "3f6ddb18",
   "metadata": {},
   "source": [
    "###### Taking state, total columns from cases_rdd"
   ]
  },
  {
   "cell_type": "code",
   "execution_count": 44,
   "id": "2e283360",
   "metadata": {},
   "outputs": [],
   "source": [
    "rdd1 = cases_rdd.map(lambda x: (x.split(\",\")[1],int(x.split(\",\")[28])))"
   ]
  },
  {
   "cell_type": "markdown",
   "id": "3fbc40d2",
   "metadata": {},
   "source": [
    "###### Summing up total cases for each states"
   ]
  },
  {
   "cell_type": "code",
   "execution_count": 45,
   "id": "d09b3bf0",
   "metadata": {},
   "outputs": [],
   "source": [
    "total_cases = rdd1.reduceByKey(lambda x, y: x + y)"
   ]
  },
  {
   "cell_type": "markdown",
   "id": "9ecb3039",
   "metadata": {},
   "source": [
    "###### Joining the 2 rdds based on common column -> state"
   ]
  },
  {
   "cell_type": "code",
   "execution_count": 46,
   "id": "5e3d016d",
   "metadata": {},
   "outputs": [],
   "source": [
    "joined_rdd = total_cases.join(states_mapped)"
   ]
  },
  {
   "cell_type": "code",
   "execution_count": 47,
   "id": "7c1ba392",
   "metadata": {},
   "outputs": [],
   "source": [
    "final_rdd = joined_rdd.sortBy(lambda x: x[1][0], ascending=False)"
   ]
  },
  {
   "cell_type": "code",
   "execution_count": 48,
   "id": "1ee642e7",
   "metadata": {},
   "outputs": [
    {
     "data": {
      "text/plain": [
       "[('WA', (2100, ('@WACovid', 44))),\n",
       " ('GA', (1034, ('@GACovid', 44))),\n",
       " ('MH', (730, ('@MHCovid', 26))),\n",
       " ('CA', (515, ('@CACovid', 4))),\n",
       " ('MI', (61, ('@MICovid', 53))),\n",
       " ('GJ', (35, ('@GJCovid', 44))),\n",
       " ('AZ', (34, ('@AZCovid', 53))),\n",
       " ('BR', (23, ('@BRCovid', 53))),\n",
       " ('RI', (16, ('@RICovid', 26))),\n",
       " ('JH', (13, ('@JHCovid', 53))),\n",
       " ('CG', (8, ('@CGCovid', 53))),\n",
       " ('KA', (5, ('@KACovid', 53))),\n",
       " ('HP', (4, ('@HPCovid', 53))),\n",
       " ('AS', (2, ('@ASCovid', 6))),\n",
       " ('HR', (2, ('@HRCovid', 9)))]"
      ]
     },
     "execution_count": 48,
     "metadata": {},
     "output_type": "execute_result"
    }
   ],
   "source": [
    "final_rdd.take(15)"
   ]
  },
  {
   "cell_type": "markdown",
   "id": "56577865",
   "metadata": {},
   "source": [
    "##### 1.Find the top 20 words from Trendytech Students Google Reviews excluding the boring words."
   ]
  },
  {
   "cell_type": "code",
   "execution_count": 3,
   "id": "12ae1ed6",
   "metadata": {},
   "outputs": [],
   "source": [
    "rdd1 = spark.sparkContext.textFile(\"/public/trendytech/reviews/trendytech-student-reviews.csv\")"
   ]
  },
  {
   "cell_type": "code",
   "execution_count": 4,
   "id": "5a428162",
   "metadata": {},
   "outputs": [
    {
     "data": {
      "text/plain": [
       "['I got to know about this course by recommendation from one of my senior and i would say that the course has Excellent lectures(content) that explored my mind.',\n",
       " 'The Sumit is very much passionate about teaching Big Data and his style of teaching is very unique and engaging the flow of course content.']"
      ]
     },
     "execution_count": 4,
     "metadata": {},
     "output_type": "execute_result"
    }
   ],
   "source": [
    "rdd1.take(2)"
   ]
  },
  {
   "cell_type": "markdown",
   "id": "b237d97f",
   "metadata": {},
   "source": [
    "######  converting all the words to lowercase"
   ]
  },
  {
   "cell_type": "code",
   "execution_count": 5,
   "id": "f49444bb",
   "metadata": {},
   "outputs": [],
   "source": [
    "rdd2 = rdd1.flatMap(lambda x:x.split(\" \")).map(lambda x:x.lower())"
   ]
  },
  {
   "cell_type": "code",
   "execution_count": 6,
   "id": "f29fd0a6",
   "metadata": {},
   "outputs": [
    {
     "data": {
      "text/plain": [
       "['i', 'got', 'to', 'know', 'about']"
      ]
     },
     "execution_count": 6,
     "metadata": {},
     "output_type": "execute_result"
    }
   ],
   "source": [
    "rdd2.take(5)"
   ]
  },
  {
   "cell_type": "code",
   "execution_count": 13,
   "id": "31027bf9",
   "metadata": {},
   "outputs": [],
   "source": [
    "rdd3 = rdd2.map(lambda x: (x,1)).reduceByKey(lambda x,y:x+y)"
   ]
  },
  {
   "cell_type": "code",
   "execution_count": 14,
   "id": "85685344",
   "metadata": {},
   "outputs": [
    {
     "data": {
      "text/plain": [
       "[('was', 61), ('learning', 31), ('journey', 6), ('sumit', 109), ('i', 215)]"
      ]
     },
     "execution_count": 14,
     "metadata": {},
     "output_type": "execute_result"
    }
   ],
   "source": [
    "rdd3.take(5)"
   ]
  },
  {
   "cell_type": "markdown",
   "id": "ceafc802",
   "metadata": {},
   "source": [
    "###### Load the boringwords"
   ]
  },
  {
   "cell_type": "code",
   "execution_count": 9,
   "id": "2c44425d",
   "metadata": {},
   "outputs": [],
   "source": [
    "boring_words=spark.sparkContext.textFile(\"/user/itv006334/TT/boringwords.txt\")"
   ]
  },
  {
   "cell_type": "code",
   "execution_count": 10,
   "id": "9d412db0",
   "metadata": {},
   "outputs": [
    {
     "data": {
      "text/plain": [
       "['shouldnt', 'worrying', 'simplify', 'tidy', 'shouldnt', 'yep']"
      ]
     },
     "execution_count": 10,
     "metadata": {},
     "output_type": "execute_result"
    }
   ],
   "source": [
    "boring_words.take(6)"
   ]
  },
  {
   "cell_type": "markdown",
   "id": "b6528f2c",
   "metadata": {},
   "source": [
    "##### broadcasting the boring words to all worker nodes"
   ]
  },
  {
   "cell_type": "code",
   "execution_count": 11,
   "id": "14e734ee",
   "metadata": {},
   "outputs": [],
   "source": [
    "broadcast_bw = spark.sparkContext.broadcast(boring_words.collect())"
   ]
  },
  {
   "cell_type": "markdown",
   "id": "215bc351",
   "metadata": {},
   "source": [
    "##### Filtering the words which are not in broadcast_bw( boringwords)."
   ]
  },
  {
   "cell_type": "code",
   "execution_count": 15,
   "id": "83938e10",
   "metadata": {},
   "outputs": [],
   "source": [
    "rdd4 = rdd3.filter(lambda x : x[0] not in broadcast_bw.value)"
   ]
  },
  {
   "cell_type": "code",
   "execution_count": 16,
   "id": "b0e1c7b4",
   "metadata": {},
   "outputs": [],
   "source": [
    "rdd5 = rdd4.reduceByKey(lambda x,y : x+y).sortBy(lambda x: x[1], ascending=False)"
   ]
  },
  {
   "cell_type": "code",
   "execution_count": 17,
   "id": "b37edb2d",
   "metadata": {},
   "outputs": [
    {
     "data": {
      "text/plain": [
       "[('data', 201),\n",
       " ('sumit', 109),\n",
       " ('trendytech', 67),\n",
       " ('', 64),\n",
       " ('data.', 34),\n",
       " ('course.', 33),\n",
       " (\"sir's\", 23),\n",
       " ('trendy', 14),\n",
       " ('course,', 13),\n",
       " (\"master's\", 13),\n",
       " ('domain.', 12),\n",
       " (\"trendytech's\", 12),\n",
       " ('sir.', 11),\n",
       " ('program.', 9),\n",
       " ('field.', 9),\n",
       " ('concepts.', 9),\n",
       " ('hands-on', 8),\n",
       " ('fresher', 8),\n",
       " ('amazing.', 8),\n",
       " ('career.', 7)]"
      ]
     },
     "execution_count": 17,
     "metadata": {},
     "output_type": "execute_result"
    }
   ],
   "source": [
    "rdd5.take(20)"
   ]
  },
  {
   "cell_type": "code",
   "execution_count": null,
   "id": "5d59030a",
   "metadata": {},
   "outputs": [],
   "source": []
  }
 ],
 "metadata": {
  "kernelspec": {
   "display_name": "Pyspark 3",
   "language": "python",
   "name": "pyspark3"
  },
  "language_info": {
   "codemirror_mode": {
    "name": "ipython",
    "version": 3
   },
   "file_extension": ".py",
   "mimetype": "text/x-python",
   "name": "python",
   "nbconvert_exporter": "python",
   "pygments_lexer": "ipython3",
   "version": "3.6.12"
  }
 },
 "nbformat": 4,
 "nbformat_minor": 5
}
