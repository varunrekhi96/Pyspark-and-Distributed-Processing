{
 "cells": [
  {
   "cell_type": "code",
   "execution_count": 1,
   "id": "7cca5254",
   "metadata": {},
   "outputs": [],
   "source": [
    "from pyspark.sql import SparkSession\n",
    "import getpass\n",
    "username = getpass.getuser()\n",
    "spark = SparkSession. \\\n",
    "builder. \\\n",
    "config('spark.ui.port', '0'). \\\n",
    "config(\"spark.sql.warehouse.dir\", f\"/user/{username}/warehouse\"). \\\n",
    "enableHiveSupport(). \\\n",
    "master('yarn'). \\\n",
    "getOrCreate()"
   ]
  },
  {
   "cell_type": "code",
   "execution_count": 2,
   "id": "c0d13344",
   "metadata": {},
   "outputs": [],
   "source": [
    "orders_base = spark.sparkContext.textFile(\"/public/trendytech/orders/orders_1gb.csv\")"
   ]
  },
  {
   "cell_type": "code",
   "execution_count": 3,
   "id": "3a24ffff",
   "metadata": {},
   "outputs": [],
   "source": [
    "orders_mapped = orders_base.map(lambda x:(x.split(\",\")[2], x.split(\",\")[3]))"
   ]
  },
  {
   "cell_type": "code",
   "execution_count": 4,
   "id": "89fa26ab",
   "metadata": {},
   "outputs": [],
   "source": [
    "customers_base = spark.sparkContext.textFile(\"/public/trendytech/retail_db/customers/part-00000\")"
   ]
  },
  {
   "cell_type": "code",
   "execution_count": 5,
   "id": "0e81dd17",
   "metadata": {},
   "outputs": [],
   "source": [
    "customers_mapped = customers_base.map(lambda x:(x.split(\",\")[0], x.split(\",\")[8]))"
   ]
  },
  {
   "cell_type": "code",
   "execution_count": 6,
   "id": "c91462f3",
   "metadata": {},
   "outputs": [],
   "source": [
    "joined_rdd = customers_mapped.join(orders_mapped)"
   ]
  },
  {
   "cell_type": "code",
   "execution_count": null,
   "id": "acac3699",
   "metadata": {},
   "outputs": [],
   "source": [
    "joined_rdd.saveAsTextFile(\"data/orders_joined\")"
   ]
  },
  {
   "cell_type": "code",
   "execution_count": null,
   "id": "4180c393",
   "metadata": {},
   "outputs": [],
   "source": []
  }
 ],
 "metadata": {
  "kernelspec": {
   "display_name": "Pyspark 3",
   "language": "python",
   "name": "pyspark3"
  },
  "language_info": {
   "codemirror_mode": {
    "name": "ipython",
    "version": 3
   },
   "file_extension": ".py",
   "mimetype": "text/x-python",
   "name": "python",
   "nbconvert_exporter": "python",
   "pygments_lexer": "ipython3",
   "version": "3.6.12"
  }
 },
 "nbformat": 4,
 "nbformat_minor": 5
}
