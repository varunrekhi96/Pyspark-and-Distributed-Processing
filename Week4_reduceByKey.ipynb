{
 "cells": [
  {
   "cell_type": "code",
   "execution_count": 1,
   "id": "b4ce9ab4",
   "metadata": {},
   "outputs": [],
   "source": [
    "from pyspark.sql import SparkSession\n",
    "import getpass\n",
    "username = getpass.getuser()\n",
    "spark = SparkSession. \\\n",
    "builder. \\\n",
    "config('spark.ui.port', '0'). \\\n",
    "config(\"spark.sql.warehouse.dir\", f\"/user/{username}/warehouse\"). \\\n",
    "enableHiveSupport(). \\\n",
    "master('yarn'). \\\n",
    "getOrCreate()"
   ]
  },
  {
   "cell_type": "code",
   "execution_count": 2,
   "id": "c7ecdbbb",
   "metadata": {},
   "outputs": [],
   "source": [
    "base_rdd = spark.sparkContext.textFile(\"/public/trendytech/orders/orders.csv\")"
   ]
  },
  {
   "cell_type": "code",
   "execution_count": 3,
   "id": "8158f19f",
   "metadata": {},
   "outputs": [],
   "source": [
    "mapped_rdd = base_rdd.map(lambda x:(x.split(\",\")[3],1))"
   ]
  },
  {
   "cell_type": "code",
   "execution_count": 4,
   "id": "96c3c9be",
   "metadata": {},
   "outputs": [
    {
     "data": {
      "text/plain": [
       "[('CLOSED', 1),\n",
       " ('PENDING_PAYMENT', 1),\n",
       " ('COMPLETE', 1),\n",
       " ('CLOSED', 1),\n",
       " ('COMPLETE', 1)]"
      ]
     },
     "execution_count": 4,
     "metadata": {},
     "output_type": "execute_result"
    }
   ],
   "source": [
    "mapped_rdd.take(5)"
   ]
  },
  {
   "cell_type": "code",
   "execution_count": 5,
   "id": "93154631",
   "metadata": {},
   "outputs": [],
   "source": [
    "reduced_rdd = mapped_rdd.reduceByKey(lambda x,y: x+y)"
   ]
  },
  {
   "cell_type": "code",
   "execution_count": null,
   "id": "ae902b25",
   "metadata": {},
   "outputs": [],
   "source": [
    "reduced_rdd.collect()"
   ]
  },
  {
   "cell_type": "code",
   "execution_count": null,
   "id": "60ccbf4a",
   "metadata": {},
   "outputs": [],
   "source": []
  }
 ],
 "metadata": {
  "kernelspec": {
   "display_name": "Pyspark 3",
   "language": "python",
   "name": "pyspark3"
  },
  "language_info": {
   "codemirror_mode": {
    "name": "ipython",
    "version": 3
   },
   "file_extension": ".py",
   "mimetype": "text/x-python",
   "name": "python",
   "nbconvert_exporter": "python",
   "pygments_lexer": "ipython3",
   "version": "3.6.12"
  }
 },
 "nbformat": 4,
 "nbformat_minor": 5
}
