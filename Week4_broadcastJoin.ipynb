{
 "cells": [
  {
   "cell_type": "code",
   "execution_count": null,
   "id": "933142da",
   "metadata": {},
   "outputs": [],
   "source": [
    "from pyspark.sql import SparkSession\n",
    "import getpass\n",
    "username = getpass.getuser()\n",
    "spark = SparkSession. \\\n",
    "builder. \\\n",
    "config('spark.ui.port', '0'). \\\n",
    "config(\"spark.sql.warehouse.dir\", f\"/user/{username}/warehouse\"). \\\n",
    "enableHiveSupport(). \\\n",
    "master('yarn'). \\\n",
    "getOrCreate()"
   ]
  },
  {
   "cell_type": "code",
   "execution_count": null,
   "id": "ad319e82",
   "metadata": {},
   "outputs": [],
   "source": [
    "spark"
   ]
  },
  {
   "cell_type": "code",
   "execution_count": null,
   "id": "f4afb285",
   "metadata": {},
   "outputs": [],
   "source": [
    "orders_base = spark.sparkContext.textFile(\"/public/trendytech/orders/orders_1gb.csv\")"
   ]
  },
  {
   "cell_type": "code",
   "execution_count": null,
   "id": "76e43def",
   "metadata": {},
   "outputs": [],
   "source": [
    "orders_mapped = orders_base.map(lambda x: (x.split(\",\")[2], x.split(\",\")[3]))"
   ]
  },
  {
   "cell_type": "code",
   "execution_count": null,
   "id": "b3768761",
   "metadata": {},
   "outputs": [],
   "source": [
    "orders_mapped.take(5)"
   ]
  },
  {
   "cell_type": "code",
   "execution_count": null,
   "id": "45c857b3",
   "metadata": {},
   "outputs": [],
   "source": [
    "customers_base = spark.sparkContext.textFile(\"/public/trendytech/retail_db/customers\")"
   ]
  },
  {
   "cell_type": "code",
   "execution_count": null,
   "id": "960fd659",
   "metadata": {},
   "outputs": [],
   "source": [
    "customers_mapped = customers_base.map(lambda x: (x.split(\",\")[0], x.split(\",\")[8]))"
   ]
  },
  {
   "cell_type": "code",
   "execution_count": null,
   "id": "81b6f9a1",
   "metadata": {},
   "outputs": [],
   "source": [
    "customers_mapped.take(5)"
   ]
  },
  {
   "cell_type": "code",
   "execution_count": null,
   "id": "cc92e42a",
   "metadata": {},
   "outputs": [],
   "source": [
    "customers_broadcast = spark.sparkContext.broadcast(customers_mapped.collect())"
   ]
  },
  {
   "cell_type": "code",
   "execution_count": null,
   "id": "30fd9ed0",
   "metadata": {},
   "outputs": [],
   "source": [
    "def getPinCode(customerID):\n",
    "    try:\n",
    "        for customer in customers_broadcast .value:\n",
    "            if customer[0] == str(customerID):\n",
    "                return (customer[0],customer[1])\n",
    "        return -1    \n",
    "    except:\n",
    "        return -1"
   ]
  },
  {
   "cell_type": "markdown",
   "id": "9dd442fa",
   "metadata": {},
   "source": [
    "\n"
   ]
  },
  {
   "cell_type": "code",
   "execution_count": null,
   "id": "e953bb0f",
   "metadata": {},
   "outputs": [],
   "source": [
    "joined_rdd = orders_mapped.map(lambda x : (getPinCode(int(x[0])), x[1]))"
   ]
  },
  {
   "cell_type": "code",
   "execution_count": null,
   "id": "dc095f5b",
   "metadata": {},
   "outputs": [],
   "source": [
    "joined_rdd.saveAsTextFile(\"data/broadcastresults\")"
   ]
  },
  {
   "cell_type": "markdown",
   "id": "1ca00c3b",
   "metadata": {},
   "source": [
    "\n",
    "\n"
   ]
  },
  {
   "cell_type": "code",
   "execution_count": null,
   "id": "080bba98",
   "metadata": {},
   "outputs": [],
   "source": [
    "getPinCode(1)"
   ]
  },
  {
   "cell_type": "markdown",
   "id": "cb2180b1",
   "metadata": {},
   "source": [
    "\n",
    "\n",
    "\n"
   ]
  }
 ],
 "metadata": {
  "kernelspec": {
   "display_name": "Pyspark 3",
   "language": "python",
   "name": "pyspark3"
  },
  "language_info": {
   "codemirror_mode": {
    "name": "ipython",
    "version": 3
   },
   "file_extension": ".py",
   "mimetype": "text/x-python",
   "name": "python",
   "nbconvert_exporter": "python",
   "pygments_lexer": "ipython3",
   "version": "3.6.12"
  }
 },
 "nbformat": 4,
 "nbformat_minor": 5
}
