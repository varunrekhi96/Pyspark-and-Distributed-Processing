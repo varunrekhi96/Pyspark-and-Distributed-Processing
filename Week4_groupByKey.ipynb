{
 "cells": [
  {
   "cell_type": "code",
   "execution_count": 1,
   "id": "7d85539d",
   "metadata": {},
   "outputs": [],
   "source": [
    "from pyspark.sql import SparkSession\n",
    "import getpass\n",
    "username = getpass.getuser()\n",
    "spark = SparkSession. \\\n",
    "builder. \\\n",
    "config('spark.ui.port', '0'). \\\n",
    "config(\"spark.sql.warehouse.dir\", f\"/user/{username}/warehouse\"). \\\n",
    "enableHiveSupport(). \\\n",
    "master('yarn'). \\\n",
    "getOrCreate()"
   ]
  },
  {
   "cell_type": "code",
   "execution_count": 2,
   "id": "fcb98912",
   "metadata": {},
   "outputs": [],
   "source": [
    "base_rdd = spark.sparkContext.textFile(\"/public/trendytech/orders/orders.csv\")"
   ]
  },
  {
   "cell_type": "code",
   "execution_count": 3,
   "id": "a81a4029",
   "metadata": {},
   "outputs": [],
   "source": [
    "mapped_rdd = base_rdd.map(lambda x:(x.split(\",\")[3], x.split(\",\")[2]))"
   ]
  },
  {
   "cell_type": "code",
   "execution_count": 4,
   "id": "580ad4ad",
   "metadata": {},
   "outputs": [],
   "source": [
    "grouped_rdd = mapped_rdd.groupByKey()"
   ]
  },
  {
   "cell_type": "code",
   "execution_count": 5,
   "id": "6b848865",
   "metadata": {},
   "outputs": [],
   "source": [
    "result = grouped_rdd.map(lambda x:(x[0], len(x[1])))"
   ]
  },
  {
   "cell_type": "code",
   "execution_count": null,
   "id": "b78cb78e",
   "metadata": {},
   "outputs": [],
   "source": [
    "result.take(5)"
   ]
  },
  {
   "cell_type": "code",
   "execution_count": null,
   "id": "30a414f9",
   "metadata": {},
   "outputs": [],
   "source": []
  }
 ],
 "metadata": {
  "kernelspec": {
   "display_name": "Pyspark 3",
   "language": "python",
   "name": "pyspark3"
  },
  "language_info": {
   "codemirror_mode": {
    "name": "ipython",
    "version": 3
   },
   "file_extension": ".py",
   "mimetype": "text/x-python",
   "name": "python",
   "nbconvert_exporter": "python",
   "pygments_lexer": "ipython3",
   "version": "3.6.12"
  }
 },
 "nbformat": 4,
 "nbformat_minor": 5
}
