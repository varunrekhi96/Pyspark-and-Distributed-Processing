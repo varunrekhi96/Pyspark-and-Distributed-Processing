{
 "cells": [
  {
   "cell_type": "code",
   "execution_count": 1,
   "id": "57471b1e",
   "metadata": {},
   "outputs": [],
   "source": [
    "from pyspark.sql import SparkSession\n",
    "import getpass\n",
    "username = getpass.getuser()\n",
    "spark = SparkSession. \\\n",
    "builder. \\\n",
    "config('spark.ui.port', '0'). \\\n",
    "config(\"spark.sql.warehouse.dir\", f\"/user/{username}/warehouse\"). \\\n",
    "enableHiveSupport(). \\\n",
    "master('yarn'). \\\n",
    "getOrCreate()"
   ]
  },
  {
   "cell_type": "code",
   "execution_count": 2,
   "id": "3eda5e1b",
   "metadata": {},
   "outputs": [
    {
     "data": {
      "text/html": [
       "\n",
       "            <div>\n",
       "                <p><b>SparkSession - hive</b></p>\n",
       "                \n",
       "        <div>\n",
       "            <p><b>SparkContext</b></p>\n",
       "\n",
       "            <p><a href=\"http://g01.itversity.com:36727\">Spark UI</a></p>\n",
       "\n",
       "            <dl>\n",
       "              <dt>Version</dt>\n",
       "                <dd><code>v3.1.2</code></dd>\n",
       "              <dt>Master</dt>\n",
       "                <dd><code>yarn</code></dd>\n",
       "              <dt>AppName</dt>\n",
       "                <dd><code>pyspark-shell</code></dd>\n",
       "            </dl>\n",
       "        </div>\n",
       "        \n",
       "            </div>\n",
       "        "
      ],
      "text/plain": [
       "<pyspark.sql.session.SparkSession at 0x7f5fb1192ef0>"
      ]
     },
     "execution_count": 2,
     "metadata": {},
     "output_type": "execute_result"
    }
   ],
   "source": [
    "spark"
   ]
  },
  {
   "cell_type": "code",
   "execution_count": 3,
   "id": "90e5a1ad",
   "metadata": {},
   "outputs": [],
   "source": [
    "words = (\"big\",\"Data\",\"Is\",\"SUPER\",\"Interesting\",\"BIG\",\"data\",\"IS\",\"A\",\"Trending\",\"technology\")"
   ]
  },
  {
   "cell_type": "code",
   "execution_count": 4,
   "id": "ec611c2b",
   "metadata": {},
   "outputs": [],
   "source": [
    "words_rdd = spark.sparkContext.parallelize(words)"
   ]
  },
  {
   "cell_type": "code",
   "execution_count": 5,
   "id": "dd283765",
   "metadata": {},
   "outputs": [],
   "source": [
    "words_normalized = words_rdd.map(lambda x:x.lower())"
   ]
  },
  {
   "cell_type": "code",
   "execution_count": 6,
   "id": "e6cca70e",
   "metadata": {},
   "outputs": [
    {
     "data": {
      "text/plain": [
       "['big',\n",
       " 'data',\n",
       " 'is',\n",
       " 'super',\n",
       " 'interesting',\n",
       " 'big',\n",
       " 'data',\n",
       " 'is',\n",
       " 'a',\n",
       " 'trending',\n",
       " 'technology']"
      ]
     },
     "execution_count": 6,
     "metadata": {},
     "output_type": "execute_result"
    }
   ],
   "source": [
    "words_normalized.collect()"
   ]
  },
  {
   "cell_type": "code",
   "execution_count": 7,
   "id": "8cb53b5a",
   "metadata": {},
   "outputs": [],
   "source": [
    "mapped_words = words_normalized.map(lambda x:(x,1))"
   ]
  },
  {
   "cell_type": "code",
   "execution_count": 8,
   "id": "4292ee9f",
   "metadata": {},
   "outputs": [],
   "source": [
    "aggregated_result = mapped_words.reduceByKey(lambda x,y:x+y)"
   ]
  },
  {
   "cell_type": "code",
   "execution_count": 9,
   "id": "b80cd20e",
   "metadata": {},
   "outputs": [
    {
     "data": {
      "text/plain": [
       "[('is', 2),\n",
       " ('trending', 1),\n",
       " ('technology', 1),\n",
       " ('super', 1),\n",
       " ('interesting', 1),\n",
       " ('big', 2),\n",
       " ('data', 2),\n",
       " ('a', 1)]"
      ]
     },
     "execution_count": 9,
     "metadata": {},
     "output_type": "execute_result"
    }
   ],
   "source": [
    "aggregated_result.collect()"
   ]
  },
  {
   "cell_type": "code",
   "execution_count": 10,
   "id": "ce2899cf",
   "metadata": {},
   "outputs": [
    {
     "data": {
      "text/plain": [
       "[('is', 2),\n",
       " ('trending', 1),\n",
       " ('technology', 1),\n",
       " ('super', 1),\n",
       " ('interesting', 1),\n",
       " ('big', 2),\n",
       " ('data', 2),\n",
       " ('a', 1)]"
      ]
     },
     "execution_count": 10,
     "metadata": {},
     "output_type": "execute_result"
    }
   ],
   "source": [
    "spark.sparkContext.parallelize(words).map(lambda x:x.lower()).map(lambda x:(x,1)).reduceByKey(lambda x,y:x+y).collect()"
   ]
  },
  {
   "cell_type": "code",
   "execution_count": 11,
   "id": "9df55c30",
   "metadata": {},
   "outputs": [],
   "source": [
    "result = spark. \\\n",
    "sparkContext. \\\n",
    "parallelize(words). \\\n",
    "map(lambda x:x.lower()). \\\n",
    "map(lambda x:(x,1)). \\\n",
    "reduceByKey(lambda x,y:x+y)"
   ]
  },
  {
   "cell_type": "code",
   "execution_count": 12,
   "id": "4e00ddd3",
   "metadata": {},
   "outputs": [
    {
     "data": {
      "text/plain": [
       "[('is', 2),\n",
       " ('super', 1),\n",
       " ('interesting', 1),\n",
       " ('trending', 1),\n",
       " ('technology', 1),\n",
       " ('big', 2),\n",
       " ('data', 2),\n",
       " ('a', 1)]"
      ]
     },
     "execution_count": 12,
     "metadata": {},
     "output_type": "execute_result"
    }
   ],
   "source": [
    "result.collect()"
   ]
  },
  {
   "cell_type": "code",
   "execution_count": null,
   "id": "02fdc89b",
   "metadata": {},
   "outputs": [],
   "source": []
  }
 ],
 "metadata": {
  "kernelspec": {
   "display_name": "Pyspark 3",
   "language": "python",
   "name": "pyspark3"
  },
  "language_info": {
   "codemirror_mode": {
    "name": "ipython",
    "version": 3
   },
   "file_extension": ".py",
   "mimetype": "text/x-python",
   "name": "python",
   "nbconvert_exporter": "python",
   "pygments_lexer": "ipython3",
   "version": "3.6.12"
  }
 },
 "nbformat": 4,
 "nbformat_minor": 5
}
